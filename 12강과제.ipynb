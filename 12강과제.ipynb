{
 "cells": [
  {
   "cell_type": "markdown",
   "id": "3ea359c8",
   "metadata": {},
   "source": [
    "# 12강 과제"
   ]
  },
  {
   "cell_type": "code",
   "execution_count": null,
   "id": "a8625c66",
   "metadata": {},
   "outputs": [],
   "source": [
    "!pip install sktime"
   ]
  },
  {
   "cell_type": "code",
   "execution_count": null,
   "id": "0f2173cf",
   "metadata": {},
   "outputs": [],
   "source": []
  }
 ],
 "metadata": {
  "language_info": {
   "name": "python"
  }
 },
 "nbformat": 4,
 "nbformat_minor": 5
}
