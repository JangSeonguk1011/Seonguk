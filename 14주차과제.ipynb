{
 "cells": [
  {
   "cell_type": "markdown",
   "id": "80273dd3",
   "metadata": {},
   "source": [
    "# 14주차 과제"
   ]
  },
  {
   "cell_type": "markdown",
   "id": "b0dc07a4",
   "metadata": {},
   "source": [
    "# 데이터 세트 준비\n",
    "아동 건강 및 발달 연구의 데이터세트(R 데이터세트)"
   ]
  },
  {
   "cell_type": "code",
   "execution_count": 1,
   "id": "d2a00ff8",
   "metadata": {},
   "outputs": [
    {
     "name": "stdout",
     "output_type": "stream",
     "text": [
      "<class 'pandas.core.frame.DataFrame'>\n",
      "RangeIndex: 32 entries, 0 to 31\n",
      "Data columns (total 4 columns):\n",
      " #   Column  Non-Null Count  Dtype \n",
      "---  ------  --------------  ----- \n",
      " 0   Hair    32 non-null     object\n",
      " 1   Eye     32 non-null     object\n",
      " 2   Sex     32 non-null     object\n",
      " 3   Freq    32 non-null     int64 \n",
      "dtypes: int64(1), object(3)\n",
      "memory usage: 1.1+ KB\n"
     ]
    }
   ],
   "source": [
    "import pandas as pd\n",
    "import statsmodels.api as sm\n",
    "\n",
    "# 데이터셋 로드\n",
    "df = sm.datasets.get_rdataset(\"HairEyeColor\", \"datasets\").data\n",
    "\n",
    "# 데이터세트 정보\n",
    "df.info()"
   ]
  },
  {
   "cell_type": "code",
   "execution_count": 2,
   "id": "9b70f97b",
   "metadata": {},
   "outputs": [
    {
     "data": {
      "text/html": [
       "<div>\n",
       "<style scoped>\n",
       "    .dataframe tbody tr th:only-of-type {\n",
       "        vertical-align: middle;\n",
       "    }\n",
       "\n",
       "    .dataframe tbody tr th {\n",
       "        vertical-align: top;\n",
       "    }\n",
       "\n",
       "    .dataframe thead th {\n",
       "        text-align: right;\n",
       "    }\n",
       "</style>\n",
       "<table border=\"1\" class=\"dataframe\">\n",
       "  <thead>\n",
       "    <tr style=\"text-align: right;\">\n",
       "      <th></th>\n",
       "      <th>Hair</th>\n",
       "      <th>Eye</th>\n",
       "      <th>Sex</th>\n",
       "      <th>Freq</th>\n",
       "    </tr>\n",
       "  </thead>\n",
       "  <tbody>\n",
       "    <tr>\n",
       "      <th>0</th>\n",
       "      <td>Black</td>\n",
       "      <td>Brown</td>\n",
       "      <td>Male</td>\n",
       "      <td>32</td>\n",
       "    </tr>\n",
       "    <tr>\n",
       "      <th>1</th>\n",
       "      <td>Brown</td>\n",
       "      <td>Brown</td>\n",
       "      <td>Male</td>\n",
       "      <td>53</td>\n",
       "    </tr>\n",
       "    <tr>\n",
       "      <th>2</th>\n",
       "      <td>Red</td>\n",
       "      <td>Brown</td>\n",
       "      <td>Male</td>\n",
       "      <td>10</td>\n",
       "    </tr>\n",
       "    <tr>\n",
       "      <th>3</th>\n",
       "      <td>Blond</td>\n",
       "      <td>Brown</td>\n",
       "      <td>Male</td>\n",
       "      <td>3</td>\n",
       "    </tr>\n",
       "    <tr>\n",
       "      <th>4</th>\n",
       "      <td>Black</td>\n",
       "      <td>Blue</td>\n",
       "      <td>Male</td>\n",
       "      <td>11</td>\n",
       "    </tr>\n",
       "  </tbody>\n",
       "</table>\n",
       "</div>"
      ],
      "text/plain": [
       "    Hair    Eye   Sex  Freq\n",
       "0  Black  Brown  Male    32\n",
       "1  Brown  Brown  Male    53\n",
       "2    Red  Brown  Male    10\n",
       "3  Blond  Brown  Male     3\n",
       "4  Black   Blue  Male    11"
      ]
     },
     "execution_count": 2,
     "metadata": {},
     "output_type": "execute_result"
    }
   ],
   "source": [
    "# 첫 5개행\n",
    "df.head()"
   ]
  },
  {
   "cell_type": "markdown",
   "id": "6f4c52e3",
   "metadata": {},
   "source": [
    "# 적합성 검정\n",
    "머리 색상 분포가1:1:1:1 비율을 따르는지 검정"
   ]
  },
  {
   "cell_type": "code",
   "execution_count": 3,
   "id": "cf4e6b28",
   "metadata": {},
   "outputs": [
    {
     "name": "stdout",
     "output_type": "stream",
     "text": [
      "교차표(Hair):\n"
     ]
    },
    {
     "data": {
      "text/html": [
       "<div>\n",
       "<style scoped>\n",
       "    .dataframe tbody tr th:only-of-type {\n",
       "        vertical-align: middle;\n",
       "    }\n",
       "\n",
       "    .dataframe tbody tr th {\n",
       "        vertical-align: top;\n",
       "    }\n",
       "\n",
       "    .dataframe thead th {\n",
       "        text-align: right;\n",
       "    }\n",
       "</style>\n",
       "<table border=\"1\" class=\"dataframe\">\n",
       "  <thead>\n",
       "    <tr style=\"text-align: right;\">\n",
       "      <th>Hair</th>\n",
       "      <th>Black</th>\n",
       "      <th>Blond</th>\n",
       "      <th>Brown</th>\n",
       "      <th>Red</th>\n",
       "    </tr>\n",
       "  </thead>\n",
       "  <tbody>\n",
       "    <tr>\n",
       "      <th>Freq</th>\n",
       "      <td>108</td>\n",
       "      <td>127</td>\n",
       "      <td>286</td>\n",
       "      <td>71</td>\n",
       "    </tr>\n",
       "  </tbody>\n",
       "</table>\n",
       "</div>"
      ],
      "text/plain": [
       "Hair  Black  Blond  Brown  Red\n",
       "Freq    108    127    286   71"
      ]
     },
     "metadata": {},
     "output_type": "display_data"
    }
   ],
   "source": [
    "from scipy.stats import chisquare, chi2_contingency\n",
    "\n",
    "#유의수준\n",
    "alpha = 0.05\n",
    "\n",
    "# 데이터 변환: Hair, Eye, Sex를 기준으로 교차표 생성\n",
    "cross_tab = pd.pivot_table(\n",
    "    df,                 # 데이터프레임\n",
    "    values=\"Freq\",     # 값으로 사용할 열\n",
    "    columns=\"Hair\",    # 열 인덱스\n",
    "    aggfunc=\"sum\",     # 집계 함수\n",
    "    fill_value=0       # 결측값을 0으로 채움\n",
    "    #margins=True,\n",
    "    # margins_name=\"sum\"\n",
    ")\n",
    "\n",
    "print(\"교차표(Hair):\")\n",
    "display(cross_tab)\n"
   ]
  },
  {
   "cell_type": "code",
   "execution_count": 4,
   "id": "069c1eb9",
   "metadata": {},
   "outputs": [
    {
     "name": "stdout",
     "output_type": "stream",
     "text": [
      "카이제곱 통계량: 182.5270\n",
      "p-value: 0.0000\n",
      "귀무가설 기각: 머리 색상은 예상 비율과 일치하지 않음\n"
     ]
    }
   ],
   "source": [
    "# 교차표의 총합\n",
    "total = cross_tab.loc['Freq'].sum()\n",
    "# 예상 비율 (각 Hair 색상에 대해 동일한 비율)\n",
    "expected_ratios = [0.25, 0.25, 0.25, 0.25]\n",
    "expected = [total * ratio for ratio in expected_ratios]\n",
    "\n",
    "# 적합성 검정 수행\n",
    "chi2_stat, p_value = chisquare( f_obs=cross_tab.loc['Freq'], f_exp=expected)\n",
    "\n",
    "# 결과 출력\n",
    "print(f\"카이제곱 통계량: {chi2_stat:.4f}\")\n",
    "print(f\"p-value: {p_value:.4f}\")\n",
    "\n",
    "# 결론 도출\n",
    "if p_value < alpha:\n",
    "    print(\"귀무가설 기각: 머리 색상은 예상 비율과 일치하지 않음\")\n",
    "else:\n",
    "    print(\"귀무가설 채택: 머리 색상은 예상 비율과 일치함\")\n"
   ]
  },
  {
   "cell_type": "markdown",
   "id": "a6d8f562",
   "metadata": {},
   "source": [
    "# 눈색상의 분포가 3.5:4:1:1.5 비율을 따르는지 검정"
   ]
  },
  {
   "cell_type": "code",
   "execution_count": 5,
   "id": "257969b0",
   "metadata": {},
   "outputs": [
    {
     "name": "stdout",
     "output_type": "stream",
     "text": [
      "교차표(Eye):\n"
     ]
    },
    {
     "data": {
      "text/html": [
       "<div>\n",
       "<style scoped>\n",
       "    .dataframe tbody tr th:only-of-type {\n",
       "        vertical-align: middle;\n",
       "    }\n",
       "\n",
       "    .dataframe tbody tr th {\n",
       "        vertical-align: top;\n",
       "    }\n",
       "\n",
       "    .dataframe thead th {\n",
       "        text-align: right;\n",
       "    }\n",
       "</style>\n",
       "<table border=\"1\" class=\"dataframe\">\n",
       "  <thead>\n",
       "    <tr style=\"text-align: right;\">\n",
       "      <th>Eye</th>\n",
       "      <th>Blue</th>\n",
       "      <th>Brown</th>\n",
       "      <th>Green</th>\n",
       "      <th>Hazel</th>\n",
       "    </tr>\n",
       "  </thead>\n",
       "  <tbody>\n",
       "    <tr>\n",
       "      <th>Freq</th>\n",
       "      <td>215</td>\n",
       "      <td>220</td>\n",
       "      <td>64</td>\n",
       "      <td>93</td>\n",
       "    </tr>\n",
       "  </tbody>\n",
       "</table>\n",
       "</div>"
      ],
      "text/plain": [
       "Eye   Blue  Brown  Green  Hazel\n",
       "Freq   215    220     64     93"
      ]
     },
     "metadata": {},
     "output_type": "display_data"
    },
    {
     "name": "stdout",
     "output_type": "stream",
     "text": [
      "카이제곱 통계량: 2.0734\n",
      "p-value: 0.5573\n",
      "귀무가설 채택: 눈 색상은 예상 비율과 일치함\n"
     ]
    }
   ],
   "source": [
    "# 데이터 변환: Eye를 기준으로 교차표 생성\n",
    "cross_tab = pd.pivot_table(\n",
    "    df,                 # 데이터프레임\n",
    "    values=\"Freq\",     # 값으로 사용할 열\n",
    "    columns=\"Eye\",    # 열 인덱스\n",
    "    aggfunc=\"sum\",     # 집계 함수\n",
    "    fill_value=0       # 결측값을 0으로 채움\n",
    "    #margins=True,\n",
    "    # margins_name=\"sum\"\n",
    ")\n",
    "\n",
    "print(\"교차표(Eye):\")\n",
    "display(cross_tab)\n",
    "# 교차표의 총합\n",
    "total = cross_tab.loc['Freq'].sum()\n",
    "# 예상 비율 (각 Eye 색상에 대해 동일한 비율)\n",
    "expected_ratios = [0.35, 0.4, 0.1, 0.15]\n",
    "expected = [total * ratio for ratio in expected_ratios]\n",
    "\n",
    "# 적합성 검정 수행\n",
    "chi2_stat, p_value = chisquare( f_obs=cross_tab.loc['Freq'], f_exp=expected)\n",
    "\n",
    "# 결과 출력\n",
    "print(f\"카이제곱 통계량: {chi2_stat:.4f}\")\n",
    "print(f\"p-value: {p_value:.4f}\")\n",
    "\n",
    "# 결론 도출\n",
    "if p_value < alpha:\n",
    "    print(\"귀무가설 기각: 눈 색상은 예상 비율과 일치하지 않음\")\n",
    "else:\n",
    "    print(\"귀무가설 채택: 눈 색상은 예상 비율과 일치함\")\n"
   ]
  },
  {
   "cell_type": "markdown",
   "id": "2c415c13",
   "metadata": {},
   "source": [
    "# 동질성 검정\n",
    "성별 머리 색상의 분포가 동일한지 검정"
   ]
  },
  {
   "cell_type": "code",
   "execution_count": 6,
   "id": "ae3955d4",
   "metadata": {},
   "outputs": [
    {
     "name": "stdout",
     "output_type": "stream",
     "text": [
      "교차표(Sex~Hair):\n"
     ]
    },
    {
     "data": {
      "text/html": [
       "<div>\n",
       "<style scoped>\n",
       "    .dataframe tbody tr th:only-of-type {\n",
       "        vertical-align: middle;\n",
       "    }\n",
       "\n",
       "    .dataframe tbody tr th {\n",
       "        vertical-align: top;\n",
       "    }\n",
       "\n",
       "    .dataframe thead th {\n",
       "        text-align: right;\n",
       "    }\n",
       "</style>\n",
       "<table border=\"1\" class=\"dataframe\">\n",
       "  <thead>\n",
       "    <tr style=\"text-align: right;\">\n",
       "      <th>Hair</th>\n",
       "      <th>Black</th>\n",
       "      <th>Blond</th>\n",
       "      <th>Brown</th>\n",
       "      <th>Red</th>\n",
       "    </tr>\n",
       "    <tr>\n",
       "      <th>Sex</th>\n",
       "      <th></th>\n",
       "      <th></th>\n",
       "      <th></th>\n",
       "      <th></th>\n",
       "    </tr>\n",
       "  </thead>\n",
       "  <tbody>\n",
       "    <tr>\n",
       "      <th>Female</th>\n",
       "      <td>52</td>\n",
       "      <td>81</td>\n",
       "      <td>143</td>\n",
       "      <td>37</td>\n",
       "    </tr>\n",
       "    <tr>\n",
       "      <th>Male</th>\n",
       "      <td>56</td>\n",
       "      <td>46</td>\n",
       "      <td>143</td>\n",
       "      <td>34</td>\n",
       "    </tr>\n",
       "  </tbody>\n",
       "</table>\n",
       "</div>"
      ],
      "text/plain": [
       "Hair    Black  Blond  Brown  Red\n",
       "Sex                             \n",
       "Female     52     81    143   37\n",
       "Male       56     46    143   34"
      ]
     },
     "metadata": {},
     "output_type": "display_data"
    }
   ],
   "source": [
    "# 데이터 변환: Eye를 기준으로 교차표 생성\n",
    "cross_tab = pd.pivot_table(\n",
    "    df,                 # 데이터프레임\n",
    "    values=\"Freq\",     # 값으로 사용할 열\n",
    "    index=\"Sex\",    # 행 인덱스\n",
    "    columns=\"Hair\",    # 열 인덱스\n",
    "    aggfunc=\"sum\",     # 집계 함수\n",
    "    fill_value=0       # 결측값을 0으로 채움\n",
    "    #margins=True,\n",
    "    # margins_name=\"sum\"\n",
    ")\n",
    "\n",
    "print(\"교차표(Sex~Hair):\")\n",
    "display(cross_tab)\n"
   ]
  },
  {
   "cell_type": "code",
   "execution_count": 7,
   "id": "58269451",
   "metadata": {},
   "outputs": [
    {
     "name": "stdout",
     "output_type": "stream",
     "text": [
      "기대도수:\n",
      "[[ 57.10135135  67.14695946 151.21283784  37.53885135]\n",
      " [ 50.89864865  59.85304054 134.78716216  33.46114865]]\n",
      "\n",
      "카이제곱 검정 결과:\n",
      "카이제곱 통계량: 7.9942\n",
      "p-value: 0.0461\n",
      "자유도: 3\n",
      "귀무가설 기각: 남성과 여성의 머리 색상 분포는 동일하지 않음\n"
     ]
    }
   ],
   "source": [
    "# 동질성 검정 수행\n",
    "chi2, p_value, dof, expected = chi2_contingency(cross_tab)\n",
    "\n",
    "# 결과 출력\n",
    "print(f\"기대도수:\\n{expected}\", end=\"\\n\\n\")\n",
    "print(\"카이제곱 검정 결과:\")\n",
    "print(f\"카이제곱 통계량: {chi2:.4f}\")\n",
    "print(f\"p-value: {p_value:.4f}\")\n",
    "print(f\"자유도: {dof}\")\n",
    "\n",
    "# 결론 도출\n",
    "alpha = 0.05\n",
    "if p_value < alpha:\n",
    "    print(\"귀무가설 기각: 남성과 여성의 머리 색상 분포는 동일하지 않음\")\n",
    "else:\n",
    "    print(\"귀무가설 채택: 남성과 여성의 머리 색상 분포는 동일함\")\n"
   ]
  },
  {
   "cell_type": "markdown",
   "id": "f9b62bd7",
   "metadata": {},
   "source": [
    "# 성별 눈 색상의 분포가 동일한지 검정"
   ]
  },
  {
   "cell_type": "code",
   "execution_count": 8,
   "id": "27853af2",
   "metadata": {},
   "outputs": [
    {
     "name": "stdout",
     "output_type": "stream",
     "text": [
      "교차표(Sex~Eye):\n"
     ]
    },
    {
     "data": {
      "text/html": [
       "<div>\n",
       "<style scoped>\n",
       "    .dataframe tbody tr th:only-of-type {\n",
       "        vertical-align: middle;\n",
       "    }\n",
       "\n",
       "    .dataframe tbody tr th {\n",
       "        vertical-align: top;\n",
       "    }\n",
       "\n",
       "    .dataframe thead th {\n",
       "        text-align: right;\n",
       "    }\n",
       "</style>\n",
       "<table border=\"1\" class=\"dataframe\">\n",
       "  <thead>\n",
       "    <tr style=\"text-align: right;\">\n",
       "      <th>Eye</th>\n",
       "      <th>Blue</th>\n",
       "      <th>Brown</th>\n",
       "      <th>Green</th>\n",
       "      <th>Hazel</th>\n",
       "    </tr>\n",
       "    <tr>\n",
       "      <th>Sex</th>\n",
       "      <th></th>\n",
       "      <th></th>\n",
       "      <th></th>\n",
       "      <th></th>\n",
       "    </tr>\n",
       "  </thead>\n",
       "  <tbody>\n",
       "    <tr>\n",
       "      <th>Female</th>\n",
       "      <td>114</td>\n",
       "      <td>122</td>\n",
       "      <td>31</td>\n",
       "      <td>46</td>\n",
       "    </tr>\n",
       "    <tr>\n",
       "      <th>Male</th>\n",
       "      <td>101</td>\n",
       "      <td>98</td>\n",
       "      <td>33</td>\n",
       "      <td>47</td>\n",
       "    </tr>\n",
       "  </tbody>\n",
       "</table>\n",
       "</div>"
      ],
      "text/plain": [
       "Eye     Blue  Brown  Green  Hazel\n",
       "Sex                              \n",
       "Female   114    122     31     46\n",
       "Male     101     98     33     47"
      ]
     },
     "metadata": {},
     "output_type": "display_data"
    },
    {
     "name": "stdout",
     "output_type": "stream",
     "text": [
      "기대도수:\n",
      "[[113.67398649 116.31756757  33.83783784  49.17060811]\n",
      " [101.32601351 103.68243243  30.16216216  43.82939189]]\n",
      "\n",
      "카이제곱 검정 결과:\n",
      "카이제곱 통계량: 1.5298\n",
      "p-value: 0.6754\n",
      "자유도: 3\n",
      "귀무가설 채택: 남성과 여성의 눈 색상 분포는 동일함\n"
     ]
    }
   ],
   "source": [
    "# 데이터 변환: Eye를 기준으로 교차표 생성\n",
    "cross_tab = pd.pivot_table(\n",
    "    df,                 # 데이터프레임\n",
    "    values=\"Freq\",     # 값으로 사용할 열\n",
    "    index=\"Sex\",    # 행 인덱스\n",
    "    columns=\"Eye\",    # 열 인덱스\n",
    "    aggfunc=\"sum\",     # 집계 함수\n",
    "    fill_value=0       # 결측값을 0으로 채움\n",
    "    #margins=True,\n",
    "    # margins_name=\"sum\"\n",
    ")\n",
    "\n",
    "print(\"교차표(Sex~Eye):\")\n",
    "display(cross_tab)\n",
    "\n",
    "# 동질성 검정 수행\n",
    "chi2, p_value, dof, expected = chi2_contingency(cross_tab)\n",
    "\n",
    "# 결과 출력\n",
    "print(f\"기대도수:\\n{expected}\", end=\"\\n\\n\")\n",
    "print(\"카이제곱 검정 결과:\")\n",
    "print(f\"카이제곱 통계량: {chi2:.4f}\")\n",
    "print(f\"p-value: {p_value:.4f}\")\n",
    "print(f\"자유도: {dof}\")\n",
    "\n",
    "# 결론 도출\n",
    "alpha = 0.05\n",
    "if p_value < alpha:\n",
    "    print(\"귀무가설 기각: 남성과 여성의 눈 색상 분포는 동일하지 않음\")\n",
    "else:\n",
    "    print(\"귀무가설 채택: 남성과 여성의 눈 색상 분포는 동일함\")\n",
    "\n"
   ]
  },
  {
   "cell_type": "markdown",
   "id": "ab2c5b8b",
   "metadata": {},
   "source": [
    "# 독립성 검정\n",
    "머리 색상과 눈 색상 간의 독립성 검정"
   ]
  },
  {
   "cell_type": "code",
   "execution_count": 9,
   "id": "d8051298",
   "metadata": {},
   "outputs": [
    {
     "name": "stdout",
     "output_type": "stream",
     "text": [
      "교차표(Hair~Eye):\n"
     ]
    },
    {
     "data": {
      "text/html": [
       "<div>\n",
       "<style scoped>\n",
       "    .dataframe tbody tr th:only-of-type {\n",
       "        vertical-align: middle;\n",
       "    }\n",
       "\n",
       "    .dataframe tbody tr th {\n",
       "        vertical-align: top;\n",
       "    }\n",
       "\n",
       "    .dataframe thead th {\n",
       "        text-align: right;\n",
       "    }\n",
       "</style>\n",
       "<table border=\"1\" class=\"dataframe\">\n",
       "  <thead>\n",
       "    <tr style=\"text-align: right;\">\n",
       "      <th>Eye</th>\n",
       "      <th>Blue</th>\n",
       "      <th>Brown</th>\n",
       "      <th>Green</th>\n",
       "      <th>Hazel</th>\n",
       "    </tr>\n",
       "    <tr>\n",
       "      <th>Hair</th>\n",
       "      <th></th>\n",
       "      <th></th>\n",
       "      <th></th>\n",
       "      <th></th>\n",
       "    </tr>\n",
       "  </thead>\n",
       "  <tbody>\n",
       "    <tr>\n",
       "      <th>Black</th>\n",
       "      <td>20</td>\n",
       "      <td>68</td>\n",
       "      <td>5</td>\n",
       "      <td>15</td>\n",
       "    </tr>\n",
       "    <tr>\n",
       "      <th>Blond</th>\n",
       "      <td>94</td>\n",
       "      <td>7</td>\n",
       "      <td>16</td>\n",
       "      <td>10</td>\n",
       "    </tr>\n",
       "    <tr>\n",
       "      <th>Brown</th>\n",
       "      <td>84</td>\n",
       "      <td>119</td>\n",
       "      <td>29</td>\n",
       "      <td>54</td>\n",
       "    </tr>\n",
       "    <tr>\n",
       "      <th>Red</th>\n",
       "      <td>17</td>\n",
       "      <td>26</td>\n",
       "      <td>14</td>\n",
       "      <td>14</td>\n",
       "    </tr>\n",
       "  </tbody>\n",
       "</table>\n",
       "</div>"
      ],
      "text/plain": [
       "Eye    Blue  Brown  Green  Hazel\n",
       "Hair                            \n",
       "Black    20     68      5     15\n",
       "Blond    94      7     16     10\n",
       "Brown    84    119     29     54\n",
       "Red      17     26     14     14"
      ]
     },
     "metadata": {},
     "output_type": "display_data"
    },
    {
     "name": "stdout",
     "output_type": "stream",
     "text": [
      "기대도수:\n",
      "[[ 39.22297297  40.13513514  11.67567568  16.96621622]\n",
      " [ 46.12331081  47.19594595  13.72972973  19.95101351]\n",
      " [103.86824324 106.28378378  30.91891892  44.92905405]\n",
      " [ 25.78547297  26.38513514   7.67567568  11.15371622]]\n",
      "\n",
      "카이제곱 검정 결과:\n",
      "카이제곱 통계량: 138.2898\n",
      "p-value: 0.0000\n",
      "자유도: 9\n",
      "귀무가설 기각: 남성과 여성의 눈 색상 분포는 동일하지 않음\n"
     ]
    }
   ],
   "source": [
    "# 데이터 변환: Eye를 기준으로 교차표 생성\n",
    "cross_tab = pd.pivot_table(\n",
    "    df,                 # 데이터프레임\n",
    "    values=\"Freq\",     # 값으로 사용할 열\n",
    "    index=\"Hair\",    # 행 인덱스\n",
    "    columns=\"Eye\",    # 열 인덱스\n",
    "    aggfunc=\"sum\",     # 집계 함수\n",
    "    fill_value=0       # 결측값을 0으로 채움\n",
    "    #margins=True,\n",
    "    # margins_name=\"sum\"\n",
    ")\n",
    "\n",
    "print(\"교차표(Hair~Eye):\")\n",
    "display(cross_tab)\n",
    "\n",
    "# 동질성 검정 수행\n",
    "chi2, p_value, dof, expected = chi2_contingency(cross_tab)\n",
    "\n",
    "# 결과 출력\n",
    "print(f\"기대도수:\\n{expected}\", end=\"\\n\\n\")\n",
    "print(\"카이제곱 검정 결과:\")\n",
    "print(f\"카이제곱 통계량: {chi2:.4f}\")\n",
    "print(f\"p-value: {p_value:.4f}\")\n",
    "print(f\"자유도: {dof}\")\n",
    "\n",
    "# 결론 도출\n",
    "alpha = 0.05\n",
    "if p_value < alpha:\n",
    "    print(\"귀무가설 기각: 남성과 여성의 눈 색상 분포는 동일하지 않음\")\n",
    "else:\n",
    "    print(\"귀무가설 채택: 남성과 여성의 눈 색상 분포는 동일함\")\n",
    "\n"
   ]
  },
  {
   "cell_type": "markdown",
   "id": "bb070018",
   "metadata": {},
   "source": [
    "# 연습"
   ]
  },
  {
   "cell_type": "markdown",
   "id": "2a1aa0af",
   "metadata": {},
   "source": [
    "Titanic 데이터셋"
   ]
  },
  {
   "cell_type": "code",
   "execution_count": 19,
   "id": "73bdffbc",
   "metadata": {},
   "outputs": [
    {
     "name": "stdout",
     "output_type": "stream",
     "text": [
      "<class 'pandas.core.frame.DataFrame'>\n",
      "RangeIndex: 32 entries, 0 to 31\n",
      "Data columns (total 5 columns):\n",
      " #   Column    Non-Null Count  Dtype \n",
      "---  ------    --------------  ----- \n",
      " 0   Class     32 non-null     object\n",
      " 1   Sex       32 non-null     object\n",
      " 2   Age       32 non-null     object\n",
      " 3   Survived  32 non-null     object\n",
      " 4   Freq      32 non-null     int64 \n",
      "dtypes: int64(1), object(4)\n",
      "memory usage: 1.4+ KB\n"
     ]
    }
   ],
   "source": [
    "import pandas as pd\n",
    "import statsmodels.api as sm\n",
    "\n",
    "# 데이터셋 로드\n",
    "df = sm.datasets.get_rdataset(\"Titanic\", \"datasets\").data\n",
    "\n",
    "# 데이터세트 정보\n",
    "df.info()"
   ]
  },
  {
   "cell_type": "code",
   "execution_count": 20,
   "id": "49d8103b",
   "metadata": {},
   "outputs": [
    {
     "data": {
      "text/html": [
       "<div>\n",
       "<style scoped>\n",
       "    .dataframe tbody tr th:only-of-type {\n",
       "        vertical-align: middle;\n",
       "    }\n",
       "\n",
       "    .dataframe tbody tr th {\n",
       "        vertical-align: top;\n",
       "    }\n",
       "\n",
       "    .dataframe thead th {\n",
       "        text-align: right;\n",
       "    }\n",
       "</style>\n",
       "<table border=\"1\" class=\"dataframe\">\n",
       "  <thead>\n",
       "    <tr style=\"text-align: right;\">\n",
       "      <th></th>\n",
       "      <th>Class</th>\n",
       "      <th>Sex</th>\n",
       "      <th>Age</th>\n",
       "      <th>Survived</th>\n",
       "      <th>Freq</th>\n",
       "    </tr>\n",
       "  </thead>\n",
       "  <tbody>\n",
       "    <tr>\n",
       "      <th>0</th>\n",
       "      <td>1st</td>\n",
       "      <td>Male</td>\n",
       "      <td>Child</td>\n",
       "      <td>No</td>\n",
       "      <td>0</td>\n",
       "    </tr>\n",
       "    <tr>\n",
       "      <th>1</th>\n",
       "      <td>2nd</td>\n",
       "      <td>Male</td>\n",
       "      <td>Child</td>\n",
       "      <td>No</td>\n",
       "      <td>0</td>\n",
       "    </tr>\n",
       "    <tr>\n",
       "      <th>2</th>\n",
       "      <td>3rd</td>\n",
       "      <td>Male</td>\n",
       "      <td>Child</td>\n",
       "      <td>No</td>\n",
       "      <td>35</td>\n",
       "    </tr>\n",
       "    <tr>\n",
       "      <th>3</th>\n",
       "      <td>Crew</td>\n",
       "      <td>Male</td>\n",
       "      <td>Child</td>\n",
       "      <td>No</td>\n",
       "      <td>0</td>\n",
       "    </tr>\n",
       "    <tr>\n",
       "      <th>4</th>\n",
       "      <td>1st</td>\n",
       "      <td>Female</td>\n",
       "      <td>Child</td>\n",
       "      <td>No</td>\n",
       "      <td>0</td>\n",
       "    </tr>\n",
       "  </tbody>\n",
       "</table>\n",
       "</div>"
      ],
      "text/plain": [
       "  Class     Sex    Age Survived  Freq\n",
       "0   1st    Male  Child       No     0\n",
       "1   2nd    Male  Child       No     0\n",
       "2   3rd    Male  Child       No    35\n",
       "3  Crew    Male  Child       No     0\n",
       "4   1st  Female  Child       No     0"
      ]
     },
     "execution_count": 20,
     "metadata": {},
     "output_type": "execute_result"
    }
   ],
   "source": [
    "# 첫 5개행\n",
    "df.head()"
   ]
  },
  {
   "cell_type": "code",
   "execution_count": 21,
   "id": "52bfaa7c",
   "metadata": {},
   "outputs": [
    {
     "name": "stdout",
     "output_type": "stream",
     "text": [
      "교차표(Class):\n"
     ]
    },
    {
     "data": {
      "text/html": [
       "<div>\n",
       "<style scoped>\n",
       "    .dataframe tbody tr th:only-of-type {\n",
       "        vertical-align: middle;\n",
       "    }\n",
       "\n",
       "    .dataframe tbody tr th {\n",
       "        vertical-align: top;\n",
       "    }\n",
       "\n",
       "    .dataframe thead th {\n",
       "        text-align: right;\n",
       "    }\n",
       "</style>\n",
       "<table border=\"1\" class=\"dataframe\">\n",
       "  <thead>\n",
       "    <tr style=\"text-align: right;\">\n",
       "      <th>Class</th>\n",
       "      <th>1st</th>\n",
       "      <th>2nd</th>\n",
       "      <th>3rd</th>\n",
       "      <th>Crew</th>\n",
       "    </tr>\n",
       "  </thead>\n",
       "  <tbody>\n",
       "    <tr>\n",
       "      <th>Freq</th>\n",
       "      <td>325</td>\n",
       "      <td>285</td>\n",
       "      <td>706</td>\n",
       "      <td>885</td>\n",
       "    </tr>\n",
       "  </tbody>\n",
       "</table>\n",
       "</div>"
      ],
      "text/plain": [
       "Class  1st  2nd  3rd  Crew\n",
       "Freq   325  285  706   885"
      ]
     },
     "metadata": {},
     "output_type": "display_data"
    }
   ],
   "source": [
    "#적합성 검정\n",
    "from scipy.stats import chisquare, chi2_contingency\n",
    "\n",
    "#유의수준\n",
    "alpha = 0.05\n",
    "\n",
    "# 데이터 변환: Class, Sex, Age 기준으로 교차표 생성\n",
    "cross_tab = pd.pivot_table(\n",
    "    df,                 # 데이터프레임\n",
    "    values=\"Freq\",     # 값으로 사용할 열\n",
    "    columns=\"Class\",    # 열 인덱스\n",
    "    aggfunc=\"sum\",     # 집계 함수\n",
    "    fill_value=0       # 결측값을 0으로 채움\n",
    "    #margins=True,\n",
    "    # margins_name=\"sum\"\n",
    ")\n",
    "\n",
    "print(\"교차표(Class):\")\n",
    "display(cross_tab)\n"
   ]
  },
  {
   "cell_type": "code",
   "execution_count": 22,
   "id": "a8743f84",
   "metadata": {},
   "outputs": [
    {
     "name": "stdout",
     "output_type": "stream",
     "text": [
      "카이제곱 통계량: 467.8069\n",
      "p-value: 0.0000\n",
      "귀무가설 기각: 선실은 예상 비율과 일치하지 않음\n"
     ]
    }
   ],
   "source": [
    "# 교차표의 총합\n",
    "total = cross_tab.loc['Freq'].sum()\n",
    "# 예상 비율 (각 종 에 대해 동일한 비율)\n",
    "expected_ratios = [0.25, 0.25, 0.25, 0.25]\n",
    "expected = [total * ratio for ratio in expected_ratios]\n",
    "\n",
    "# 적합성 검정 수행\n",
    "chi2_stat, p_value = chisquare( f_obs=cross_tab.loc['Freq'], f_exp=expected)\n",
    "\n",
    "# 결과 출력\n",
    "print(f\"카이제곱 통계량: {chi2_stat:.4f}\")\n",
    "print(f\"p-value: {p_value:.4f}\")\n",
    "\n",
    "# 결론 도출\n",
    "if p_value < alpha:\n",
    "    print(\"귀무가설 기각: 선실은 예상 비율과 일치하지 않음\")\n",
    "else:\n",
    "    print(\"귀무가설 채택: 선실은 예상 비율과 일치함\")\n"
   ]
  },
  {
   "cell_type": "markdown",
   "id": "9fc84c1b",
   "metadata": {},
   "source": [
    "선실 비율이 0.2:0.3:0.2:0.3비율을 따르는지 검정"
   ]
  },
  {
   "cell_type": "code",
   "execution_count": 27,
   "id": "4ee16b22",
   "metadata": {},
   "outputs": [
    {
     "name": "stdout",
     "output_type": "stream",
     "text": [
      "교차표(Class):\n"
     ]
    },
    {
     "data": {
      "text/html": [
       "<div>\n",
       "<style scoped>\n",
       "    .dataframe tbody tr th:only-of-type {\n",
       "        vertical-align: middle;\n",
       "    }\n",
       "\n",
       "    .dataframe tbody tr th {\n",
       "        vertical-align: top;\n",
       "    }\n",
       "\n",
       "    .dataframe thead th {\n",
       "        text-align: right;\n",
       "    }\n",
       "</style>\n",
       "<table border=\"1\" class=\"dataframe\">\n",
       "  <thead>\n",
       "    <tr style=\"text-align: right;\">\n",
       "      <th>Class</th>\n",
       "      <th>1st</th>\n",
       "      <th>2nd</th>\n",
       "      <th>3rd</th>\n",
       "      <th>Crew</th>\n",
       "    </tr>\n",
       "  </thead>\n",
       "  <tbody>\n",
       "    <tr>\n",
       "      <th>Freq</th>\n",
       "      <td>325</td>\n",
       "      <td>285</td>\n",
       "      <td>706</td>\n",
       "      <td>885</td>\n",
       "    </tr>\n",
       "  </tbody>\n",
       "</table>\n",
       "</div>"
      ],
      "text/plain": [
       "Class  1st  2nd  3rd  Crew\n",
       "Freq   325  285  706   885"
      ]
     },
     "metadata": {},
     "output_type": "display_data"
    },
    {
     "name": "stdout",
     "output_type": "stream",
     "text": [
      "카이제곱 통계량: 480.4198\n",
      "p-value: 0.0000\n",
      "귀무가설 기각: 선실은 예상 비율과 일치하지 않음\n"
     ]
    }
   ],
   "source": [
    "# 데이터 변환: Class를 기준으로 교차표 생성\n",
    "cross_tab = pd.pivot_table(\n",
    "    df,                 # 데이터프레임\n",
    "    values=\"Freq\",     # 값으로 사용할 열\n",
    "    columns=\"Class\",    # 열 인덱스\n",
    "    aggfunc=\"sum\",     # 집계 함수\n",
    "    fill_value=0       # 결측값을 0으로 채움\n",
    "    #margins=True,\n",
    "    # margins_name=\"sum\"\n",
    ")\n",
    "\n",
    "print(\"교차표(Class):\")\n",
    "display(cross_tab)\n",
    "# 교차표의 총합\n",
    "total = cross_tab.loc['Freq'].sum()\n",
    "# 예상 비율 (각 Class 색상에 대해 동일한 비율)\n",
    "expected_ratios = [0.2, 0.3, 0.2, 0.3]\n",
    "expected = [total * ratio for ratio in expected_ratios]\n",
    "\n",
    "# 적합성 검정 수행\n",
    "chi2_stat, p_value = chisquare( f_obs=cross_tab.loc['Freq'], f_exp=expected)\n",
    "\n",
    "# 결과 출력\n",
    "print(f\"카이제곱 통계량: {chi2_stat:.4f}\")\n",
    "print(f\"p-value: {p_value:.4f}\")\n",
    "\n",
    "# 결론 도출\n",
    "if p_value < alpha:\n",
    "    print(\"귀무가설 기각: 선실은 예상 비율과 일치하지 않음\")\n",
    "else:\n",
    "    print(\"귀무가설 채택: 선실은 예상 비율과 일치함\")\n"
   ]
  },
  {
   "cell_type": "code",
   "execution_count": 28,
   "id": "1e8a7656",
   "metadata": {},
   "outputs": [
    {
     "name": "stdout",
     "output_type": "stream",
     "text": [
      "교차표(Class~Sex):\n"
     ]
    },
    {
     "data": {
      "text/html": [
       "<div>\n",
       "<style scoped>\n",
       "    .dataframe tbody tr th:only-of-type {\n",
       "        vertical-align: middle;\n",
       "    }\n",
       "\n",
       "    .dataframe tbody tr th {\n",
       "        vertical-align: top;\n",
       "    }\n",
       "\n",
       "    .dataframe thead th {\n",
       "        text-align: right;\n",
       "    }\n",
       "</style>\n",
       "<table border=\"1\" class=\"dataframe\">\n",
       "  <thead>\n",
       "    <tr style=\"text-align: right;\">\n",
       "      <th>Sex</th>\n",
       "      <th>Female</th>\n",
       "      <th>Male</th>\n",
       "    </tr>\n",
       "    <tr>\n",
       "      <th>Class</th>\n",
       "      <th></th>\n",
       "      <th></th>\n",
       "    </tr>\n",
       "  </thead>\n",
       "  <tbody>\n",
       "    <tr>\n",
       "      <th>1st</th>\n",
       "      <td>145</td>\n",
       "      <td>180</td>\n",
       "    </tr>\n",
       "    <tr>\n",
       "      <th>2nd</th>\n",
       "      <td>106</td>\n",
       "      <td>179</td>\n",
       "    </tr>\n",
       "    <tr>\n",
       "      <th>3rd</th>\n",
       "      <td>196</td>\n",
       "      <td>510</td>\n",
       "    </tr>\n",
       "    <tr>\n",
       "      <th>Crew</th>\n",
       "      <td>23</td>\n",
       "      <td>862</td>\n",
       "    </tr>\n",
       "  </tbody>\n",
       "</table>\n",
       "</div>"
      ],
      "text/plain": [
       "Sex    Female  Male\n",
       "Class              \n",
       "1st       145   180\n",
       "2nd       106   179\n",
       "3rd       196   510\n",
       "Crew       23   862"
      ]
     },
     "metadata": {},
     "output_type": "display_data"
    }
   ],
   "source": [
    "# 동질성 검정\n",
    "# 데이터 변환: Sex,Class를 기준으로 교차표 생성\n",
    "cross_tab = pd.pivot_table(\n",
    "    df,                 # 데이터프레임\n",
    "    values=\"Freq\",     # 값으로 사용할 열\n",
    "    index=\"Class\",    # 행 인덱스\n",
    "    columns=\"Sex\",    # 열 인덱스\n",
    "    aggfunc=\"sum\",     # 집계 함수\n",
    "    fill_value=0       # 결측값을 0으로 채움\n",
    "    #margins=True,\n",
    "    # margins_name=\"sum\"\n",
    ")\n",
    "\n",
    "print(\"교차표(Class~Sex):\")\n",
    "display(cross_tab)\n"
   ]
  },
  {
   "cell_type": "code",
   "execution_count": 29,
   "id": "877bb5d5",
   "metadata": {},
   "outputs": [
    {
     "name": "stdout",
     "output_type": "stream",
     "text": [
      "기대도수:\n",
      "[[ 69.4002726  255.5997274 ]\n",
      " [ 60.85870059 224.14129941]\n",
      " [150.75874602 555.24125398]\n",
      " [188.98228078 696.01771922]]\n",
      "\n",
      "카이제곱 검정 결과:\n",
      "카이제곱 통계량: 349.9145\n",
      "p-value: 0.0000\n",
      "자유도: 3\n",
      "귀무가설 기각: 남성과 여성의 머리 색상 분포는 동일하지 않음\n"
     ]
    }
   ],
   "source": [
    "# 동질성 검정 수행\n",
    "chi2, p_value, dof, expected = chi2_contingency(cross_tab)\n",
    "\n",
    "# 결과 출력\n",
    "print(f\"기대도수:\\n{expected}\", end=\"\\n\\n\")\n",
    "print(\"카이제곱 검정 결과:\")\n",
    "print(f\"카이제곱 통계량: {chi2:.4f}\")\n",
    "print(f\"p-value: {p_value:.4f}\")\n",
    "print(f\"자유도: {dof}\")\n",
    "\n",
    "# 결론 도출\n",
    "alpha = 0.05\n",
    "if p_value < alpha:\n",
    "    print(\"귀무가설 기각: 남성과 여성의 머리 색상 분포는 동일하지 않음\")\n",
    "else:\n",
    "    print(\"귀무가설 채택: 남성과 여성의 머리 색상 분포는 동일함\")\n"
   ]
  },
  {
   "cell_type": "markdown",
   "id": "fa3556af",
   "metadata": {},
   "source": [
    "성별, 생존율이 비례하는지 검정"
   ]
  },
  {
   "cell_type": "code",
   "execution_count": 31,
   "id": "3ee0639c",
   "metadata": {},
   "outputs": [
    {
     "name": "stdout",
     "output_type": "stream",
     "text": [
      "교차표(Sex~Survived):\n"
     ]
    },
    {
     "data": {
      "text/html": [
       "<div>\n",
       "<style scoped>\n",
       "    .dataframe tbody tr th:only-of-type {\n",
       "        vertical-align: middle;\n",
       "    }\n",
       "\n",
       "    .dataframe tbody tr th {\n",
       "        vertical-align: top;\n",
       "    }\n",
       "\n",
       "    .dataframe thead th {\n",
       "        text-align: right;\n",
       "    }\n",
       "</style>\n",
       "<table border=\"1\" class=\"dataframe\">\n",
       "  <thead>\n",
       "    <tr style=\"text-align: right;\">\n",
       "      <th>Survived</th>\n",
       "      <th>No</th>\n",
       "      <th>Yes</th>\n",
       "    </tr>\n",
       "    <tr>\n",
       "      <th>Sex</th>\n",
       "      <th></th>\n",
       "      <th></th>\n",
       "    </tr>\n",
       "  </thead>\n",
       "  <tbody>\n",
       "    <tr>\n",
       "      <th>Female</th>\n",
       "      <td>126</td>\n",
       "      <td>344</td>\n",
       "    </tr>\n",
       "    <tr>\n",
       "      <th>Male</th>\n",
       "      <td>1364</td>\n",
       "      <td>367</td>\n",
       "    </tr>\n",
       "  </tbody>\n",
       "</table>\n",
       "</div>"
      ],
      "text/plain": [
       "Survived    No  Yes\n",
       "Sex                \n",
       "Female     126  344\n",
       "Male      1364  367"
      ]
     },
     "metadata": {},
     "output_type": "display_data"
    },
    {
     "name": "stdout",
     "output_type": "stream",
     "text": [
      "기대도수:\n",
      "[[ 318.17355747  151.82644253]\n",
      " [1171.82644253  559.17355747]]\n",
      "\n",
      "카이제곱 검정 결과:\n",
      "카이제곱 통계량: 454.4998\n",
      "p-value: 0.0000\n",
      "자유도: 1\n",
      "귀무가설 기각: 남성과 여성의 생존률 분포는 동일하지 않음\n"
     ]
    }
   ],
   "source": [
    "# 데이터 변환: Sex,Survived 기준으로 교차표 생성\n",
    "cross_tab = pd.pivot_table(\n",
    "    df,                 # 데이터프레임\n",
    "    values=\"Freq\",     # 값으로 사용할 열\n",
    "    index=\"Sex\",    # 행 인덱스\n",
    "    columns=\"Survived\",    # 열 인덱스\n",
    "    aggfunc=\"sum\",     # 집계 함수\n",
    "    fill_value=0       # 결측값을 0으로 채움\n",
    "    #margins=True,\n",
    "    # margins_name=\"sum\"\n",
    ")\n",
    "\n",
    "print(\"교차표(Sex~Survived):\")\n",
    "display(cross_tab)\n",
    "\n",
    "# 동질성 검정 수행\n",
    "chi2, p_value, dof, expected = chi2_contingency(cross_tab)\n",
    "\n",
    "# 결과 출력\n",
    "print(f\"기대도수:\\n{expected}\", end=\"\\n\\n\")\n",
    "print(\"카이제곱 검정 결과:\")\n",
    "print(f\"카이제곱 통계량: {chi2:.4f}\")\n",
    "print(f\"p-value: {p_value:.4f}\")\n",
    "print(f\"자유도: {dof}\")\n",
    "\n",
    "# 결론 도출\n",
    "alpha = 0.05\n",
    "if p_value < alpha:\n",
    "    print(\"귀무가설 기각: 남성과 여성의 생존률 분포는 동일하지 않음\")\n",
    "else:\n",
    "    print(\"귀무가설 채택: 남성과 여성의 생존률 분포는 동일함\")\n",
    "\n"
   ]
  },
  {
   "cell_type": "markdown",
   "id": "1e372b65",
   "metadata": {},
   "source": [
    "독립성검정"
   ]
  },
  {
   "cell_type": "code",
   "execution_count": 33,
   "id": "4df970dd",
   "metadata": {},
   "outputs": [
    {
     "name": "stdout",
     "output_type": "stream",
     "text": [
      "교차표(Sex~Age):\n"
     ]
    },
    {
     "data": {
      "text/html": [
       "<div>\n",
       "<style scoped>\n",
       "    .dataframe tbody tr th:only-of-type {\n",
       "        vertical-align: middle;\n",
       "    }\n",
       "\n",
       "    .dataframe tbody tr th {\n",
       "        vertical-align: top;\n",
       "    }\n",
       "\n",
       "    .dataframe thead th {\n",
       "        text-align: right;\n",
       "    }\n",
       "</style>\n",
       "<table border=\"1\" class=\"dataframe\">\n",
       "  <thead>\n",
       "    <tr style=\"text-align: right;\">\n",
       "      <th>Age</th>\n",
       "      <th>Adult</th>\n",
       "      <th>Child</th>\n",
       "    </tr>\n",
       "    <tr>\n",
       "      <th>Sex</th>\n",
       "      <th></th>\n",
       "      <th></th>\n",
       "    </tr>\n",
       "  </thead>\n",
       "  <tbody>\n",
       "    <tr>\n",
       "      <th>Female</th>\n",
       "      <td>425</td>\n",
       "      <td>45</td>\n",
       "    </tr>\n",
       "    <tr>\n",
       "      <th>Male</th>\n",
       "      <td>1667</td>\n",
       "      <td>64</td>\n",
       "    </tr>\n",
       "  </tbody>\n",
       "</table>\n",
       "</div>"
      ],
      "text/plain": [
       "Age     Adult  Child\n",
       "Sex                 \n",
       "Female    425     45\n",
       "Male     1667     64"
      ]
     },
     "metadata": {},
     "output_type": "display_data"
    },
    {
     "name": "stdout",
     "output_type": "stream",
     "text": [
      "기대도수:\n",
      "[[ 446.72421627   23.27578373]\n",
      " [1645.27578373   85.72421627]]\n",
      "\n",
      "카이제곱 검정 결과:\n",
      "카이제곱 통계량: 25.8905\n",
      "p-value: 0.0000\n",
      "자유도: 1\n",
      "귀무가설 기각: 남성과 여성의 나이 분포는 동일하지 않음\n"
     ]
    }
   ],
   "source": [
    "# 성별과 나이간의 독립성 검정\n",
    "# 데이터 변환: Sex,Age 기준으로 교차표 생성\n",
    "cross_tab = pd.pivot_table(\n",
    "    df,                 # 데이터프레임\n",
    "    values=\"Freq\",     # 값으로 사용할 열\n",
    "    index=\"Sex\",    # 행 인덱스\n",
    "    columns=\"Age\",    # 열 인덱스\n",
    "    aggfunc=\"sum\",     # 집계 함수\n",
    "    fill_value=0       # 결측값을 0으로 채움\n",
    "    #margins=True,\n",
    "    # margins_name=\"sum\"\n",
    ")\n",
    "\n",
    "print(\"교차표(Sex~Age):\")\n",
    "display(cross_tab)\n",
    "\n",
    "# 동질성 검정 수행\n",
    "chi2, p_value, dof, expected = chi2_contingency(cross_tab)\n",
    "\n",
    "# 결과 출력\n",
    "print(f\"기대도수:\\n{expected}\", end=\"\\n\\n\")\n",
    "print(\"카이제곱 검정 결과:\")\n",
    "print(f\"카이제곱 통계량: {chi2:.4f}\")\n",
    "print(f\"p-value: {p_value:.4f}\")\n",
    "print(f\"자유도: {dof}\")\n",
    "\n",
    "# 결론 도출\n",
    "alpha = 0.05\n",
    "if p_value < alpha:\n",
    "    print(\"귀무가설 기각: 남성과 여성의 나이 분포는 동일하지 않음\")\n",
    "else:\n",
    "    print(\"귀무가설 채택: 남성과 여성의 나이 분포는 동일함\")\n",
    "\n"
   ]
  },
  {
   "cell_type": "code",
   "execution_count": null,
   "id": "30ebd9c2",
   "metadata": {},
   "outputs": [],
   "source": []
  }
 ],
 "metadata": {
  "kernelspec": {
   "display_name": "stat",
   "language": "python",
   "name": "python3"
  },
  "language_info": {
   "codemirror_mode": {
    "name": "ipython",
    "version": 3
   },
   "file_extension": ".py",
   "mimetype": "text/x-python",
   "name": "python",
   "nbconvert_exporter": "python",
   "pygments_lexer": "ipython3",
   "version": "3.12.11"
  }
 },
 "nbformat": 4,
 "nbformat_minor": 5
}
