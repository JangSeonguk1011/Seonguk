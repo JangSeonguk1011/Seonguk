{
 "cells": [
  {
   "cell_type": "markdown",
   "id": "31708b29",
   "metadata": {},
   "source": [
    "# 단순선형회귀분석 예제"
   ]
  },
  {
   "cell_type": "code",
   "execution_count": 17,
   "id": "821667bc",
   "metadata": {},
   "outputs": [
    {
     "data": {
      "text/html": [
       "<div>\n",
       "<style scoped>\n",
       "    .dataframe tbody tr th:only-of-type {\n",
       "        vertical-align: middle;\n",
       "    }\n",
       "\n",
       "    .dataframe tbody tr th {\n",
       "        vertical-align: top;\n",
       "    }\n",
       "\n",
       "    .dataframe thead th {\n",
       "        text-align: right;\n",
       "    }\n",
       "</style>\n",
       "<table border=\"1\" class=\"dataframe\">\n",
       "  <thead>\n",
       "    <tr style=\"text-align: right;\">\n",
       "      <th></th>\n",
       "      <th>SBP</th>\n",
       "      <th>DBP</th>\n",
       "    </tr>\n",
       "  </thead>\n",
       "  <tbody>\n",
       "    <tr>\n",
       "      <th>0</th>\n",
       "      <td>127.45</td>\n",
       "      <td>88.22</td>\n",
       "    </tr>\n",
       "    <tr>\n",
       "      <th>1</th>\n",
       "      <td>117.93</td>\n",
       "      <td>89.55</td>\n",
       "    </tr>\n",
       "    <tr>\n",
       "      <th>2</th>\n",
       "      <td>129.72</td>\n",
       "      <td>84.80</td>\n",
       "    </tr>\n",
       "    <tr>\n",
       "      <th>3</th>\n",
       "      <td>142.85</td>\n",
       "      <td>106.99</td>\n",
       "    </tr>\n",
       "    <tr>\n",
       "      <th>4</th>\n",
       "      <td>116.49</td>\n",
       "      <td>67.54</td>\n",
       "    </tr>\n",
       "  </tbody>\n",
       "</table>\n",
       "</div>"
      ],
      "text/plain": [
       "     SBP    DBP\n",
       "0 127.45  88.22\n",
       "1 117.93  89.55\n",
       "2 129.72  84.80\n",
       "3 142.85 106.99\n",
       "4 116.49  67.54"
      ]
     },
     "execution_count": 17,
     "metadata": {},
     "output_type": "execute_result"
    }
   ],
   "source": [
    "# 라이브러리 임포트\n",
    "import pandas as pd\n",
    "import numpy as np\n",
    "import matplotlib.pyplot as plt\n",
    "import seaborn as sns\n",
    "import koreanize_matplotlib\n",
    "\n",
    "# 데이터프레임의 출력 옵션 및 그래프 크기 설정\n",
    "pd.options.display.float_format = '{:.2f}'.format\n",
    "plt.rcParams['figure.figsize'] = [8,5]\n",
    "\n",
    "# 데이터 생성\n",
    "np.random.seed(42)\n",
    "\n",
    "# 30명의 환자에 대한 수축기 혈압 데이터 생성 평균 120mmHg, 표준편차 15mmHg\n",
    "df = pd.DataFrame({\n",
    "'SBP': np.random.normal(120, 15, 30)\n",
    "})\n",
    "\n",
    "# 이완기 혈압 = 0.7*수축기 혈압 + 랜덤 노이즈\n",
    "df['DBP'] = -5.0 + 0.7*df['SBP'] + np.random.randint(-15, 15, 30)\n",
    "\n",
    "# 데이터 확인\n",
    "df.head()"
   ]
  },
  {
   "cell_type": "markdown",
   "id": "058f5488",
   "metadata": {},
   "source": [
    "# 변수의 데이터 유형 확인"
   ]
  },
  {
   "cell_type": "code",
   "execution_count": 7,
   "id": "bed02112",
   "metadata": {},
   "outputs": [
    {
     "name": "stdout",
     "output_type": "stream",
     "text": [
      "<class 'pandas.core.frame.DataFrame'>\n",
      "RangeIndex: 30 entries, 0 to 29\n",
      "Data columns (total 2 columns):\n",
      " #   Column  Non-Null Count  Dtype  \n",
      "---  ------  --------------  -----  \n",
      " 0   SBP     30 non-null     float64\n",
      " 1   DBP     30 non-null     float64\n",
      "dtypes: float64(2)\n",
      "memory usage: 612.0 bytes\n"
     ]
    }
   ],
   "source": [
    "df.info()"
   ]
  },
  {
   "cell_type": "code",
   "execution_count": 8,
   "id": "d67c9fdf",
   "metadata": {},
   "outputs": [
    {
     "data": {
      "text/html": [
       "<div>\n",
       "<style scoped>\n",
       "    .dataframe tbody tr th:only-of-type {\n",
       "        vertical-align: middle;\n",
       "    }\n",
       "\n",
       "    .dataframe tbody tr th {\n",
       "        vertical-align: top;\n",
       "    }\n",
       "\n",
       "    .dataframe thead th {\n",
       "        text-align: right;\n",
       "    }\n",
       "</style>\n",
       "<table border=\"1\" class=\"dataframe\">\n",
       "  <thead>\n",
       "    <tr style=\"text-align: right;\">\n",
       "      <th></th>\n",
       "      <th>SBP</th>\n",
       "      <th>DBP</th>\n",
       "    </tr>\n",
       "  </thead>\n",
       "  <tbody>\n",
       "    <tr>\n",
       "      <th>count</th>\n",
       "      <td>30.00</td>\n",
       "      <td>30.00</td>\n",
       "    </tr>\n",
       "    <tr>\n",
       "      <th>mean</th>\n",
       "      <td>117.18</td>\n",
       "      <td>76.12</td>\n",
       "    </tr>\n",
       "    <tr>\n",
       "      <th>std</th>\n",
       "      <td>13.50</td>\n",
       "      <td>14.22</td>\n",
       "    </tr>\n",
       "    <tr>\n",
       "      <th>min</th>\n",
       "      <td>91.30</td>\n",
       "      <td>52.89</td>\n",
       "    </tr>\n",
       "    <tr>\n",
       "      <th>25%</th>\n",
       "      <td>111.13</td>\n",
       "      <td>66.91</td>\n",
       "    </tr>\n",
       "    <tr>\n",
       "      <th>50%</th>\n",
       "      <td>116.49</td>\n",
       "      <td>72.81</td>\n",
       "    </tr>\n",
       "    <tr>\n",
       "      <th>75%</th>\n",
       "      <td>125.41</td>\n",
       "      <td>87.59</td>\n",
       "    </tr>\n",
       "    <tr>\n",
       "      <th>max</th>\n",
       "      <td>143.69</td>\n",
       "      <td>108.58</td>\n",
       "    </tr>\n",
       "  </tbody>\n",
       "</table>\n",
       "</div>"
      ],
      "text/plain": [
       "         SBP    DBP\n",
       "count  30.00  30.00\n",
       "mean  117.18  76.12\n",
       "std    13.50  14.22\n",
       "min    91.30  52.89\n",
       "25%   111.13  66.91\n",
       "50%   116.49  72.81\n",
       "75%   125.41  87.59\n",
       "max   143.69 108.58"
      ]
     },
     "execution_count": 8,
     "metadata": {},
     "output_type": "execute_result"
    }
   ],
   "source": [
    "# 기술 통계량 확인\n",
    "df.describe()"
   ]
  },
  {
   "cell_type": "markdown",
   "id": "875e9b3c",
   "metadata": {},
   "source": [
    "# 산점도 분석"
   ]
  },
  {
   "cell_type": "code",
   "execution_count": 9,
   "id": "31896131",
   "metadata": {},
   "outputs": [
    {
     "data": {
      "image/png": "[encoded data removed]",
      "text/plain": [
       "<Figure size 800x500 with 1 Axes>"
      ]
     },
     "metadata": {},
     "output_type": "display_data"
    }
   ],
   "source": [
    "# 산점도 그래프\n",
    "df.plot(\n",
    "    kind='scatter',\n",
    "    x='SBP',\n",
    "    y='DBP',\n",
    "    title='이완기혈압(DBP) vs 수축기혈압(SBP)'\n",
    ");"
   ]
  },
  {
   "cell_type": "code",
   "execution_count": null,
   "id": "50102647",
   "metadata": {},
   "outputs": [],
   "source": []
  },
  {
   "cell_type": "markdown",
   "id": "5fc8003f",
   "metadata": {},
   "source": [
    "# 상관분석"
   ]
  },
  {
   "cell_type": "code",
   "execution_count": 10,
   "id": "4ec25708",
   "metadata": {},
   "outputs": [
    {
     "name": "stdout",
     "output_type": "stream",
     "text": [
      "Pearson 상관계수: 0.751, p-값: 0.000\n",
      "Pearson 상관계수는 통계적으로 유의함.\n"
     ]
    }
   ],
   "source": [
    "# 독립변수와 종속변수의 상관계수\n",
    "from scipy.stats import pearsonr\n",
    "\n",
    "pearson_corr, pearson_p = pearsonr(df['DBP'], df['SBP'])\n",
    "print(f\"Pearson 상관계수: {pearson_corr:.3f}, p-값: {pearson_p:.3f}\")\n",
    "\n",
    "if pearson_p < 0.05:\n",
    "    print(\"Pearson 상관계수는 통계적으로 유의함.\")\n",
    "else:\n",
    "    print(\"Pearson 상관계수는 통계적으로 유의하지 않음.\")"
   ]
  },
  {
   "cell_type": "code",
   "execution_count": 11,
   "id": "3e9123ce",
   "metadata": {},
   "outputs": [],
   "source": [
    "import statsmodels.formula.api as smf\n",
    "\n",
    "# 회귀모형 생성\n",
    "formula = 'DBP ~ SBP'"
   ]
  },
  {
   "cell_type": "code",
   "execution_count": 12,
   "id": "152e0915",
   "metadata": {},
   "outputs": [],
   "source": [
    "# OLS 클래스로 선형회귀모형의 객체를 생성\n",
    "model = smf.ols(formula, data=df)\n",
    "\n",
    "# fit 메서드로 모형 추정, 결과는 결과 객체에 저장\n",
    "result = model.fit()"
   ]
  },
  {
   "cell_type": "code",
   "execution_count": 13,
   "id": "c4ed1f95",
   "metadata": {},
   "outputs": [
    {
     "name": "stdout",
     "output_type": "stream",
     "text": [
      "-------------------- 1. 표본회귀선(모회귀선의 추정) --------------------\n",
      "절편은 -16.499809964665673이고, 기울기는 0.7904592019618322\n",
      "따라서, 추정된 회귀선은 \n",
      "DBP = -16.50 + 0.79*SBP\n",
      "-------------------- 2. 회귀모형의 적합도 평가 --------------------\n",
      "결정계수 : 0.5633721028347716\n",
      "-------------------- 3. 회귀계수의 유의성 검정 --------------------\n",
      "SBP의 회귀계수의 p-값: 0.000\n",
      "회귀계수는 통계적으로 유의함.\n",
      "-------------------- 4. 회귀모형의 유의성 검정 --------------------\n",
      "F-통계량: 36.13, p-값: 0.000\n",
      "회귀모형은 통계적으로 유의함.\n"
     ]
    }
   ],
   "source": [
    "# 추정한 회귀선\n",
    "print('-'*20, '1. 표본회귀선(모회귀선의 추정)', '-'*20)\n",
    "print(f'절편은 {result.params[\"Intercept\"]}이고, 기울기는 {result.params[\"SBP\"]}')\n",
    "print(f'따라서, 추정된 회귀선은 ')\n",
    "print(f'DBP = {result.params[\"Intercept\"]:.2f} + {result.params[\"SBP\"]:.2f}*SBP')\n",
    "\n",
    "# 회귀모형의 적합도 평가\n",
    "print('-'*20, '2. 회귀모형의 적합도 평가', '-'*20)\n",
    "print('결정계수 :', result.rsquared)\n",
    "\n",
    "# 회귀계수의 유의성 검정(일반적으로 절편은 하지 않음)\n",
    "print('-'*20, '3. 회귀계수의 유의성 검정', '-'*20)\n",
    "print(f'SBP의 회귀계수의 p-값: {result.pvalues[\"SBP\"]:.3f}')\n",
    "if result.pvalues['SBP'] < 0.05:\n",
    "    print('회귀계수는 통계적으로 유의함.')\n",
    "else:\n",
    "    print('회귀계수는 통계적으로 유의하지 않음.')\n",
    "\n",
    "# 회귀모형의 유의성 검정\n",
    "print('-'*20, '4. 회귀모형의 유의성 검정', '-'*20)\n",
    "print(f'F-통계량: {result.fvalue:.2f}, p-값: {result.f_pvalue:.3f}')\n",
    "if result.f_pvalue < 0.05:\n",
    "    print('회귀모형은 통계적으로 유의함.')\n",
    "else:\n",
    "    print('회귀모형은 통계적으로 유의하지 않음.')\n",
    "\n"
   ]
  },
  {
   "cell_type": "code",
   "execution_count": 15,
   "id": "0666c3e7",
   "metadata": {},
   "outputs": [
    {
     "name": "stdout",
     "output_type": "stream",
     "text": [
      "                            OLS Regression Results                            \n",
      "==============================================================================\n",
      "Dep. Variable:                    DBP   R-squared:                       0.563\n",
      "Model:                            OLS   Adj. R-squared:                  0.548\n",
      "Method:                 Least Squares   F-statistic:                     36.13\n",
      "Date:                Tue, 01 Jul 2025   Prob (F-statistic):           1.78e-06\n",
      "Time:                        07:44:33   Log-Likelihood:                -109.26\n",
      "No. Observations:                  30   AIC:                             222.5\n",
      "Df Residuals:                      28   BIC:                             225.3\n",
      "Df Model:                           1                                         \n",
      "Covariance Type:            nonrobust                                         \n",
      "==============================================================================\n",
      "                 coef    std err          t      P>|t|      [0.025      0.975]\n",
      "------------------------------------------------------------------------------\n",
      "Intercept    -16.4998     15.509     -1.064      0.296     -48.268      15.268\n",
      "SBP            0.7905      0.132      6.011      0.000       0.521       1.060\n",
      "==============================================================================\n",
      "Omnibus:                        6.988   Durbin-Watson:                   2.156\n",
      "Prob(Omnibus):                  0.030   Jarque-Bera (JB):                2.148\n",
      "Skew:                           0.175   Prob(JB):                        0.342\n",
      "Kurtosis:                       1.737   Cond. No.                     1.05e+03\n",
      "==============================================================================\n",
      "\n",
      "Notes:\n",
      "[1] Standard Errors assume that the covariance matrix of the errors is correctly specified.\n",
      "[2] The condition number is large, 1.05e+03. This might indicate that there are\n",
      "strong multicollinearity or other numerical problems.\n"
     ]
    }
   ],
   "source": [
    "print(result.summary())"
   ]
  },
  {
   "cell_type": "markdown",
   "id": "d4bcb1e4",
   "metadata": {},
   "source": [
    "# 연습"
   ]
  },
  {
   "cell_type": "markdown",
   "id": "bd91f931",
   "metadata": {},
   "source": [
    "단순선형회귀분석 예제"
   ]
  },
  {
   "cell_type": "code",
   "execution_count": 18,
   "id": "b4c5160f",
   "metadata": {},
   "outputs": [
    {
     "data": {
      "text/html": [
       "<div>\n",
       "<style scoped>\n",
       "    .dataframe tbody tr th:only-of-type {\n",
       "        vertical-align: middle;\n",
       "    }\n",
       "\n",
       "    .dataframe tbody tr th {\n",
       "        vertical-align: top;\n",
       "    }\n",
       "\n",
       "    .dataframe thead th {\n",
       "        text-align: right;\n",
       "    }\n",
       "</style>\n",
       "<table border=\"1\" class=\"dataframe\">\n",
       "  <thead>\n",
       "    <tr style=\"text-align: right;\">\n",
       "      <th></th>\n",
       "      <th>Height</th>\n",
       "      <th>Weight</th>\n",
       "      <th>BMI</th>\n",
       "    </tr>\n",
       "  </thead>\n",
       "  <tbody>\n",
       "    <tr>\n",
       "      <th>0</th>\n",
       "      <td>169.00</td>\n",
       "      <td>57.80</td>\n",
       "      <td>20.24</td>\n",
       "    </tr>\n",
       "    <tr>\n",
       "      <th>1</th>\n",
       "      <td>163.90</td>\n",
       "      <td>87.20</td>\n",
       "      <td>32.46</td>\n",
       "    </tr>\n",
       "    <tr>\n",
       "      <th>2</th>\n",
       "      <td>170.20</td>\n",
       "      <td>64.80</td>\n",
       "      <td>22.37</td>\n",
       "    </tr>\n",
       "    <tr>\n",
       "      <th>3</th>\n",
       "      <td>177.20</td>\n",
       "      <td>52.30</td>\n",
       "      <td>16.66</td>\n",
       "    </tr>\n",
       "    <tr>\n",
       "      <th>4</th>\n",
       "      <td>163.10</td>\n",
       "      <td>74.90</td>\n",
       "      <td>28.16</td>\n",
       "    </tr>\n",
       "  </tbody>\n",
       "</table>\n",
       "</div>"
      ],
      "text/plain": [
       "   Height  Weight   BMI\n",
       "0  169.00   57.80 20.24\n",
       "1  163.90   87.20 32.46\n",
       "2  170.20   64.80 22.37\n",
       "3  177.20   52.30 16.66\n",
       "4  163.10   74.90 28.16"
      ]
     },
     "execution_count": 18,
     "metadata": {},
     "output_type": "execute_result"
    }
   ],
   "source": [
    "# 라이브러리 임포트\n",
    "import pandas as pd\n",
    "import numpy as np\n",
    "import matplotlib.pyplot as plt\n",
    "import seaborn as sns\n",
    "import koreanize_matplotlib\n",
    "\n",
    "# 데이터프레임의 출력 옵션 및 그래프 크기 설정\n",
    "pd.options.display.float_format = '{:.2f}'.format\n",
    "plt.rcParams['figure.figsize'] = [8,5]\n",
    "\n",
    "# 데이터 생성\n",
    "np.random.seed(42)\n",
    "\n",
    "# 30명에 대한 키,몸무게 데이터 생성\n",
    "df = pd.DataFrame({\n",
    "'Height': np.random.normal(165, 8, 30).round(1), # 키(cm), 평균 165, 표준편차 8\n",
    "'Weight': np.random.normal(65, 12, 30).round(1), # 체중(kg), 평균 65, 표준편차 12\n",
    "})\n",
    "# BMI계산 = 체중을 키를 100으로 나눈 나머지에 제곱을함  \n",
    "df['BMI'] = (df['Weight'] / ((df['Height']/100) ** 2))\n",
    "\n",
    "# 데이터 확인\n",
    "df.head()"
   ]
  },
  {
   "cell_type": "markdown",
   "id": "35f74ee5",
   "metadata": {},
   "source": [
    " 변수의 데이터 유형 확인"
   ]
  },
  {
   "cell_type": "code",
   "execution_count": 19,
   "id": "6479ac78",
   "metadata": {},
   "outputs": [
    {
     "name": "stdout",
     "output_type": "stream",
     "text": [
      "<class 'pandas.core.frame.DataFrame'>\n",
      "RangeIndex: 30 entries, 0 to 29\n",
      "Data columns (total 3 columns):\n",
      " #   Column  Non-Null Count  Dtype  \n",
      "---  ------  --------------  -----  \n",
      " 0   Height  30 non-null     float64\n",
      " 1   Weight  30 non-null     float64\n",
      " 2   BMI     30 non-null     float64\n",
      "dtypes: float64(3)\n",
      "memory usage: 852.0 bytes\n"
     ]
    }
   ],
   "source": [
    "df.info()"
   ]
  },
  {
   "cell_type": "code",
   "execution_count": 20,
   "id": "caabad89",
   "metadata": {},
   "outputs": [
    {
     "data": {
      "text/html": [
       "<div>\n",
       "<style scoped>\n",
       "    .dataframe tbody tr th:only-of-type {\n",
       "        vertical-align: middle;\n",
       "    }\n",
       "\n",
       "    .dataframe tbody tr th {\n",
       "        vertical-align: top;\n",
       "    }\n",
       "\n",
       "    .dataframe thead th {\n",
       "        text-align: right;\n",
       "    }\n",
       "</style>\n",
       "<table border=\"1\" class=\"dataframe\">\n",
       "  <thead>\n",
       "    <tr style=\"text-align: right;\">\n",
       "      <th></th>\n",
       "      <th>Height</th>\n",
       "      <th>Weight</th>\n",
       "      <th>BMI</th>\n",
       "    </tr>\n",
       "  </thead>\n",
       "  <tbody>\n",
       "    <tr>\n",
       "      <th>count</th>\n",
       "      <td>30.00</td>\n",
       "      <td>30.00</td>\n",
       "      <td>30.00</td>\n",
       "    </tr>\n",
       "    <tr>\n",
       "      <th>mean</th>\n",
       "      <td>163.49</td>\n",
       "      <td>63.55</td>\n",
       "      <td>23.87</td>\n",
       "    </tr>\n",
       "    <tr>\n",
       "      <th>std</th>\n",
       "      <td>7.20</td>\n",
       "      <td>11.17</td>\n",
       "      <td>4.45</td>\n",
       "    </tr>\n",
       "    <tr>\n",
       "      <th>min</th>\n",
       "      <td>149.70</td>\n",
       "      <td>41.50</td>\n",
       "      <td>14.18</td>\n",
       "    </tr>\n",
       "    <tr>\n",
       "      <th>25%</th>\n",
       "      <td>160.27</td>\n",
       "      <td>56.52</td>\n",
       "      <td>20.93</td>\n",
       "    </tr>\n",
       "    <tr>\n",
       "      <th>50%</th>\n",
       "      <td>163.10</td>\n",
       "      <td>64.20</td>\n",
       "      <td>22.75</td>\n",
       "    </tr>\n",
       "    <tr>\n",
       "      <th>75%</th>\n",
       "      <td>167.88</td>\n",
       "      <td>71.50</td>\n",
       "      <td>27.69</td>\n",
       "    </tr>\n",
       "    <tr>\n",
       "      <th>max</th>\n",
       "      <td>177.60</td>\n",
       "      <td>87.20</td>\n",
       "      <td>32.46</td>\n",
       "    </tr>\n",
       "  </tbody>\n",
       "</table>\n",
       "</div>"
      ],
      "text/plain": [
       "       Height  Weight   BMI\n",
       "count   30.00   30.00 30.00\n",
       "mean   163.49   63.55 23.87\n",
       "std      7.20   11.17  4.45\n",
       "min    149.70   41.50 14.18\n",
       "25%    160.27   56.52 20.93\n",
       "50%    163.10   64.20 22.75\n",
       "75%    167.88   71.50 27.69\n",
       "max    177.60   87.20 32.46"
      ]
     },
     "execution_count": 20,
     "metadata": {},
     "output_type": "execute_result"
    }
   ],
   "source": [
    "# 기술 통계량 확인\n",
    "df.describe()"
   ]
  },
  {
   "cell_type": "markdown",
   "id": "143cb9b7",
   "metadata": {},
   "source": [
    "산점도 분석"
   ]
  },
  {
   "cell_type": "code",
   "execution_count": 22,
   "id": "4d48db11",
   "metadata": {},
   "outputs": [
    {
     "data": {
      "image/png": "[encoded data removed]",
      "text/plain": [
       "<Figure size 800x500 with 1 Axes>"
      ]
     },
     "metadata": {},
     "output_type": "display_data"
    }
   ],
   "source": [
    "# 산점도 그래프\n",
    "df.plot(\n",
    "    kind='scatter',\n",
    "    x='Height',\n",
    "    y='Weight',\n",
    "    title='Height vs Weight'\n",
    ");"
   ]
  },
  {
   "cell_type": "markdown",
   "id": "b9cc07e4",
   "metadata": {},
   "source": [
    "상관분석"
   ]
  },
  {
   "cell_type": "code",
   "execution_count": 23,
   "id": "2dbb9431",
   "metadata": {},
   "outputs": [
    {
     "name": "stdout",
     "output_type": "stream",
     "text": [
      "Pearson 상관계수: 0.099, p-값: 0.602\n",
      "Pearson 상관계수는 통계적으로 유의하지 않음.\n"
     ]
    }
   ],
   "source": [
    "# 독립변수와 종속변수의 상관계수\n",
    "from scipy.stats import pearsonr\n",
    "\n",
    "pearson_corr, pearson_p = pearsonr(df['Height'], df['Weight'])\n",
    "print(f\"Pearson 상관계수: {pearson_corr:.3f}, p-값: {pearson_p:.3f}\")\n",
    "\n",
    "if pearson_p < 0.05:\n",
    "    print(\"Pearson 상관계수는 통계적으로 유의함.\")\n",
    "else:\n",
    "    print(\"Pearson 상관계수는 통계적으로 유의하지 않음.\")"
   ]
  },
  {
   "cell_type": "code",
   "execution_count": 26,
   "id": "955c97c7",
   "metadata": {},
   "outputs": [],
   "source": [
    "import statsmodels.formula.api as smf\n",
    "\n",
    "# 회귀모형 생성\n",
    "formula = 'Height ~ Weight'"
   ]
  },
  {
   "cell_type": "code",
   "execution_count": 27,
   "id": "3a5f0d90",
   "metadata": {},
   "outputs": [],
   "source": [
    "# OLS 클래스로 선형회귀모형의 객체를 생성\n",
    "model = smf.ols(formula, data=df)\n",
    "\n",
    "# fit 메서드로 모형 추정, 결과는 결과 객체에 저장\n",
    "result = model.fit()"
   ]
  },
  {
   "cell_type": "code",
   "execution_count": 29,
   "id": "6fba5355",
   "metadata": {},
   "outputs": [
    {
     "name": "stdout",
     "output_type": "stream",
     "text": [
      "-------------------- 1. 표본회귀선(모회귀선의 추정) --------------------\n",
      "절편은 159.42162072645152이고, 기울기는 0.0639627495051156\n",
      "따라서, 추정된 회귀선은 \n",
      "Height = 159.42 + 0.06*Weight\n",
      "-------------------- 2. 회귀모형의 적합도 평가 --------------------\n",
      "결정계수 : 0.00986584331005369\n",
      "-------------------- 3. 회귀계수의 유의성 검정 --------------------\n",
      "SBWeight의 회귀계수의 p-값: 0.602\n",
      "회귀계수는 통계적으로 유의하지 않음.\n",
      "-------------------- 4. 회귀모형의 유의성 검정 --------------------\n",
      "F-통계량: 0.28, p-값: 0.602\n",
      "회귀모형은 통계적으로 유의하지 않음.\n"
     ]
    }
   ],
   "source": [
    "# 추정한 회귀선\n",
    "print('-'*20, '1. 표본회귀선(모회귀선의 추정)', '-'*20)\n",
    "print(f'절편은 {result.params[\"Intercept\"]}이고, 기울기는 {result.params[\"Weight\"]}')\n",
    "print(f'따라서, 추정된 회귀선은 ')\n",
    "print(f'Height = {result.params[\"Intercept\"]:.2f} + {result.params[\"Weight\"]:.2f}*Weight')\n",
    "\n",
    "# 회귀모형의 적합도 평가\n",
    "print('-'*20, '2. 회귀모형의 적합도 평가', '-'*20)\n",
    "print('결정계수 :', result.rsquared)\n",
    "\n",
    "# 회귀계수의 유의성 검정(일반적으로 절편은 하지 않음)\n",
    "print('-'*20, '3. 회귀계수의 유의성 검정', '-'*20)\n",
    "print(f'SBWeight의 회귀계수의 p-값: {result.pvalues[\"Weight\"]:.3f}')\n",
    "if result.pvalues['Weight'] < 0.05:\n",
    "    print('회귀계수는 통계적으로 유의함.')\n",
    "else:\n",
    "    print('회귀계수는 통계적으로 유의하지 않음.')\n",
    "\n",
    "# 회귀모형의 유의성 검정\n",
    "print('-'*20, '4. 회귀모형의 유의성 검정', '-'*20)\n",
    "print(f'F-통계량: {result.fvalue:.2f}, p-값: {result.f_pvalue:.3f}')\n",
    "if result.f_pvalue < 0.05:\n",
    "    print('회귀모형은 통계적으로 유의함.')\n",
    "else:\n",
    "    print('회귀모형은 통계적으로 유의하지 않음.')\n",
    "\n"
   ]
  },
  {
   "cell_type": "code",
   "execution_count": 30,
   "id": "d00066c5",
   "metadata": {},
   "outputs": [
    {
     "name": "stdout",
     "output_type": "stream",
     "text": [
      "                            OLS Regression Results                            \n",
      "==============================================================================\n",
      "Dep. Variable:                 Height   R-squared:                       0.010\n",
      "Model:                            OLS   Adj. R-squared:                 -0.025\n",
      "Method:                 Least Squares   F-statistic:                    0.2790\n",
      "Date:                Tue, 01 Jul 2025   Prob (F-statistic):              0.602\n",
      "Time:                        08:12:40   Log-Likelihood:                -101.12\n",
      "No. Observations:                  30   AIC:                             206.2\n",
      "Df Residuals:                      28   BIC:                             209.0\n",
      "Df Model:                           1                                         \n",
      "Covariance Type:            nonrobust                                         \n",
      "==============================================================================\n",
      "                 coef    std err          t      P>|t|      [0.025      0.975]\n",
      "------------------------------------------------------------------------------\n",
      "Intercept    159.4216      7.810     20.412      0.000     143.423     175.420\n",
      "Weight         0.0640      0.121      0.528      0.602      -0.184       0.312\n",
      "==============================================================================\n",
      "Omnibus:                        0.440   Durbin-Watson:                   1.752\n",
      "Prob(Omnibus):                  0.803   Jarque-Bera (JB):                0.500\n",
      "Skew:                           0.254   Prob(JB):                        0.779\n",
      "Kurtosis:                       2.623   Cond. No.                         379.\n",
      "==============================================================================\n",
      "\n",
      "Notes:\n",
      "[1] Standard Errors assume that the covariance matrix of the errors is correctly specified.\n"
     ]
    }
   ],
   "source": [
    "print(result.summary())"
   ]
  },
  {
   "cell_type": "code",
   "execution_count": null,
   "id": "b8819b02",
   "metadata": {},
   "outputs": [],
   "source": []
  }
 ],
 "metadata": {
  "kernelspec": {
   "display_name": "base",
   "language": "python",
   "name": "python3"
  },
  "language_info": {
   "codemirror_mode": {
    "name": "ipython",
    "version": 3
   },
   "file_extension": ".py",
   "mimetype": "text/x-python",
   "name": "python",
   "nbconvert_exporter": "python",
   "pygments_lexer": "ipython3",
   "version": "3.12.10"
  }
 },
 "nbformat": 4,
 "nbformat_minor": 5
}
